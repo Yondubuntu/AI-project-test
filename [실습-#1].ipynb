{
 "cells": [
  {
   "cell_type": "markdown",
   "metadata": {
    "id": "niklM1PlwOeN"
   },
   "source": [
    "# Numpy"
   ]
  },
  {
   "cell_type": "markdown",
   "metadata": {
    "id": "BrYIz2Vpwq9k"
   },
   "source": [
    "https://numpy.org/devdocs/user/absolute_beginners.html "
   ]
  },
  {
   "cell_type": "code",
   "execution_count": 1,
   "metadata": {
    "id": "cwi9z_QQwUSW"
   },
   "outputs": [],
   "source": [
    "import numpy as np "
   ]
  },
  {
   "cell_type": "code",
   "execution_count": 3,
   "metadata": {
    "id": "KElUBAHqNWcU"
   },
   "outputs": [],
   "source": [
    "x = [1, 2, 3] \n",
    "y = [-3, -2, -1] "
   ]
  },
  {
   "cell_type": "code",
   "execution_count": 4,
   "metadata": {
    "id": "18ai7QAANc0R"
   },
   "outputs": [
    {
     "name": "stdout",
     "output_type": "stream",
     "text": [
      "[1, 2, 3, -3, -2, -1]\n"
     ]
    }
   ],
   "source": [
    "print(x + y)"
   ]
  },
  {
   "cell_type": "code",
   "execution_count": 6,
   "metadata": {
    "id": "AOAEKAX_NeuD"
   },
   "outputs": [
    {
     "name": "stdout",
     "output_type": "stream",
     "text": [
      "(1, 2, 3, 1, 2, 3, 1, 2, 3)\n"
     ]
    }
   ],
   "source": [
    "print(3 * x)"
   ]
  },
  {
   "cell_type": "code",
   "execution_count": 7,
   "metadata": {
    "id": "UwxSS3TANfcJ"
   },
   "outputs": [
    {
     "ename": "TypeError",
     "evalue": "can't multiply sequence by non-int of type 'tuple'",
     "output_type": "error",
     "traceback": [
      "\u001b[0;31m---------------------------------------------------------------------------\u001b[0m",
      "\u001b[0;31mTypeError\u001b[0m                                 Traceback (most recent call last)",
      "\u001b[0;32m/var/folders/ht/4d122qr50vs5jr5k781my7yr0000gn/T/ipykernel_64204/3385726999.py\u001b[0m in \u001b[0;36m<module>\u001b[0;34m\u001b[0m\n\u001b[0;32m----> 1\u001b[0;31m \u001b[0mprint\u001b[0m\u001b[0;34m(\u001b[0m\u001b[0mx\u001b[0m \u001b[0;34m*\u001b[0m \u001b[0my\u001b[0m\u001b[0;34m)\u001b[0m\u001b[0;34m\u001b[0m\u001b[0;34m\u001b[0m\u001b[0m\n\u001b[0m",
      "\u001b[0;31mTypeError\u001b[0m: can't multiply sequence by non-int of type 'tuple'"
     ]
    }
   ],
   "source": [
    "print(x * y)"
   ]
  },
  {
   "cell_type": "code",
   "execution_count": 5,
   "metadata": {
    "id": "mej1s76CNSkH"
   },
   "outputs": [
    {
     "name": "stdout",
     "output_type": "stream",
     "text": [
      "[-2  0  2]\n",
      "[3 6 9]\n",
      "[-3 -4 -3]\n"
     ]
    }
   ],
   "source": [
    "# [3강] 벡터.행렬.편미분.전미분.최적화.pdf p.6 \n",
    "x = np.array(x)\n",
    "y = np.array(y)\n",
    "print(x + y)\n",
    "print(3 * x)\n",
    "print(x * y)"
   ]
  },
  {
   "cell_type": "code",
   "execution_count": 6,
   "metadata": {
    "id": "UaeVx4TwOLUs"
   },
   "outputs": [
    {
     "name": "stdout",
     "output_type": "stream",
     "text": [
      "[[ 9  3]\n",
      " [-2  0]]\n",
      "[[18  6]\n",
      " [-4  0]]\n",
      "[[81  9]\n",
      " [ 4  0]]\n"
     ]
    }
   ],
   "source": [
    "# [3강] 벡터.행렬.편미분.전미분.최적화.pdf p.7 ~ 8 \n",
    "A = np.array([[9, 3], [-2, 0]])\n",
    "print(A)\n",
    "# Addition \n",
    "print(A+A)\n",
    "# 1) Scalar multiplication \n",
    "print(A*A)"
   ]
  },
  {
   "cell_type": "code",
   "execution_count": 7,
   "metadata": {
    "id": "akcGZj5lOVfj"
   },
   "outputs": [
    {
     "name": "stdout",
     "output_type": "stream",
     "text": [
      "[[ 15 -21]\n",
      " [ -2   8]]\n",
      "[[17  3]\n",
      " [ 8  6]]\n"
     ]
    }
   ],
   "source": [
    "# [3강] 벡터.행렬.편미분.전미분.최적화.pdf p.9 \n",
    "# 2) Matrix to Matrix multiplication \n",
    "# https://numpy.org/doc/stable/reference/generated/numpy.matmul.html \n",
    "B = np.array([[1, -4], [2, 5]])\n",
    "print(np.matmul(A , B))\n",
    "print(np.matmul(B, A))"
   ]
  },
  {
   "cell_type": "code",
   "execution_count": 8,
   "metadata": {
    "id": "NqPTc8GOOcFT"
   },
   "outputs": [
    {
     "name": "stdout",
     "output_type": "stream",
     "text": [
      "[15 -2]\n"
     ]
    }
   ],
   "source": [
    "# [3강] 벡터.행렬.편미분.전미분.최적화.pdf p.9 \n",
    "# 3) Matrix to Vector multiplication \n",
    "x = np.array([1, 2]) \n",
    "print(np.matmul(A,x))"
   ]
  },
  {
   "cell_type": "code",
   "execution_count": 9,
   "metadata": {
    "id": "yvkGNpxEPrdC"
   },
   "outputs": [
    {
     "name": "stdout",
     "output_type": "stream",
     "text": [
      "[[ 9 -2]\n",
      " [ 3  0]]\n"
     ]
    }
   ],
   "source": [
    "# [3강] 벡터.행렬.편미분.전미분.최적화.pdf p.9 \n",
    "# 4) Transposition \n",
    "print(A.T)"
   ]
  },
  {
   "cell_type": "code",
   "execution_count": 10,
   "metadata": {
    "id": "GNZuc8UtPzeL"
   },
   "outputs": [
    {
     "name": "stdout",
     "output_type": "stream",
     "text": [
      "[[ 9  3]\n",
      " [-2  0]]\n",
      "[[ 0.         -0.5       ]\n",
      " [ 0.33333333  1.5       ]]\n",
      "[[1. 0.]\n",
      " [0. 1.]]\n",
      "[[1. 0.]\n",
      " [0. 1.]]\n"
     ]
    }
   ],
   "source": [
    "# [3강] 벡터.행렬.편미분.전미분.최적화.pdf p.10 \n",
    "# 5) Inverse of Matrix \n",
    "# https://numpy.org/doc/stable/reference/generated/numpy.linalg.inv.html \n",
    "from numpy.linalg import inv \n",
    "print(A)\n",
    "print(inv(A))\n",
    "print(np.matmul(A, inv(A)))\n",
    "print(np.matmul(inv(A), A))"
   ]
  },
  {
   "cell_type": "code",
   "execution_count": 24,
   "metadata": {
    "id": "erE2hquVMz_l"
   },
   "outputs": [
    {
     "name": "stdout",
     "output_type": "stream",
     "text": [
      "3\n"
     ]
    }
   ],
   "source": [
    "# [3강] 벡터.행렬.편미분.전미분.최적화.pdf p.10 \n",
    "# 6) Dot Product \n",
    "x = np.array([1, 3, -5])\n",
    "y = np.array([4, -2, -1])\n",
    "print(np.dot(x,y))"
   ]
  },
  {
   "cell_type": "code",
   "execution_count": 11,
   "metadata": {
    "id": "4jeD-FROQKpr"
   },
   "outputs": [
    {
     "name": "stdout",
     "output_type": "stream",
     "text": [
      "[[ 9  3]\n",
      " [-2  0]]\n",
      "[[ 1 -4]\n",
      " [ 2  5]]\n",
      "[[  9 -12]\n",
      " [ -4   0]]\n"
     ]
    }
   ],
   "source": [
    "# [3강] 벡터.행렬.편미분.전미분.최적화.pdf p.10 \n",
    "# 7) Hadamard Product \n",
    "print(A)\n",
    "print(B)\n",
    "print(A*B)"
   ]
  },
  {
   "cell_type": "markdown",
   "metadata": {
    "id": "Z2Yj4GdC88s6"
   },
   "source": [
    "# 수치 편미분 Numerical Partial Derivative "
   ]
  },
  {
   "cell_type": "code",
   "execution_count": 2,
   "metadata": {
    "id": "xgEETIKaFkWU"
   },
   "outputs": [],
   "source": [
    "# 수치 미분 함수 Numerical Differentiation function \n",
    "# 미분적분학 p.110, 115 \n",
    "# 밑바닥부터 시작하는 딥러닝 p.123 \n",
    "\n",
    "def numerical_diff(f, x): \n",
    "    h = 1e-5 # 0.00001 \n",
    "    #return ( f(x + h) - f(x - h) ) / (2 * h)   # Symmetric derivative \n",
    "    return (f(x + h) - f(x)) / h                # Derivative "
   ]
  },
  {
   "cell_type": "code",
   "execution_count": 15,
   "metadata": {
    "id": "PdUqsZbsFkVW"
   },
   "outputs": [],
   "source": [
    "# # [3강] 벡터.행렬.편미분.전미분.최적화.pdf p.23 \n",
    "# 밑바닥부터 시작하는 딥러닝 p.125\n",
    "# rice_bowl_function(x0, x1) = (x0)^2 + (x1)^2 \n",
    "def rice_bowl_function(x): \n",
    "    return 2*x[0]**2 + 4*x[0]*x[1]\n",
    "    # return None "
   ]
  },
  {
   "cell_type": "markdown",
   "metadata": {
    "id": "hWFhPrBW4JKp"
   },
   "source": [
    "The partial differential of rice_bowl_function with respect to x0 -> \n",
    "\n",
    "The partial differential of rice_bowl_function with respect to x1 -> \n",
    "\n",
    "The total differential of rice_bowl_function -> "
   ]
  },
  {
   "cell_type": "markdown",
   "metadata": {
    "id": "dlv3mvf_4GUu"
   },
   "source": [
    "(x0) = 3, (x1) = 4 -> df/dx0 = ? "
   ]
  },
  {
   "cell_type": "code",
   "execution_count": 41,
   "metadata": {
    "id": "0Tq4zE5_FkRg"
   },
   "outputs": [
    {
     "ename": "IndentationError",
     "evalue": "unindent does not match any outer indentation level (<tokenize>, line 5)",
     "output_type": "error",
     "traceback": [
      "\u001b[0;36m  File \u001b[0;32m\"<tokenize>\"\u001b[0;36m, line \u001b[0;32m5\u001b[0m\n\u001b[0;31m    return 2*x0**2 + 4*x1*x0;\u001b[0m\n\u001b[0m    ^\u001b[0m\n\u001b[0;31mIndentationError\u001b[0m\u001b[0;31m:\u001b[0m unindent does not match any outer indentation level\n"
     ]
    }
   ],
   "source": [
    "# 밑바닥부터 시작하는 딥러닝 p.126\n",
    "# (x0)^2 + 4^2\n",
    "def rice_bowl_function_wrt_x0(x0): \n",
    "     x1 = 0 \n",
    "    return 2*x0**2 + 4*x1*x0;"
   ]
  },
  {
   "cell_type": "code",
   "execution_count": 42,
   "metadata": {
    "id": "mvGaFySrFkON"
   },
   "outputs": [
    {
     "ename": "NameError",
     "evalue": "name 'rice_bowl_function_wrt_x0' is not defined",
     "output_type": "error",
     "traceback": [
      "\u001b[0;31m---------------------------------------------------------------------------\u001b[0m",
      "\u001b[0;31mNameError\u001b[0m                                 Traceback (most recent call last)",
      "\u001b[0;32m/var/folders/ht/4d122qr50vs5jr5k781my7yr0000gn/T/ipykernel_71733/3105701923.py\u001b[0m in \u001b[0;36m<module>\u001b[0;34m\u001b[0m\n\u001b[0;32m----> 1\u001b[0;31m \u001b[0mnumerical_diff\u001b[0m\u001b[0;34m(\u001b[0m\u001b[0mrice_bowl_function_wrt_x0\u001b[0m\u001b[0;34m,\u001b[0m \u001b[0;36m3.0\u001b[0m\u001b[0;34m)\u001b[0m\u001b[0;34m\u001b[0m\u001b[0;34m\u001b[0m\u001b[0m\n\u001b[0m",
      "\u001b[0;31mNameError\u001b[0m: name 'rice_bowl_function_wrt_x0' is not defined"
     ]
    }
   ],
   "source": [
    "numerical_diff(rice_bowl_function_wrt_x0, 3.0)"
   ]
  },
  {
   "cell_type": "markdown",
   "metadata": {
    "id": "pVJq7VsK7j7Y"
   },
   "source": [
    "(x0) = 3, (x1) = 4 -> df/dx1 = ? "
   ]
  },
  {
   "cell_type": "code",
   "execution_count": 43,
   "metadata": {
    "id": "lyOjyFB0FkIr"
   },
   "outputs": [],
   "source": [
    "# 밑바닥부터 시작하는 딥러닝 p.127 \n",
    "# 3^2 + (x1)^2 \n",
    "def rice_bowl_function_wrt_x1(x1): \n",
    "    x0 = 3\n",
    "    return x0**2 + x1**2"
   ]
  },
  {
   "cell_type": "code",
   "execution_count": 44,
   "metadata": {
    "id": "fbDXS_RMFkFn"
   },
   "outputs": [
    {
     "data": {
      "text/plain": [
       "8.00000999952033"
      ]
     },
     "execution_count": 44,
     "metadata": {},
     "output_type": "execute_result"
    }
   ],
   "source": [
    "numerical_diff(rice_bowl_function_wrt_x1, 4.0)"
   ]
  },
  {
   "cell_type": "markdown",
   "metadata": {
    "id": "li430CWn9AHh"
   },
   "source": [
    "# 기울기 Gradient "
   ]
  },
  {
   "cell_type": "code",
   "execution_count": 18,
   "metadata": {
    "id": "G-I4ax77FkBr"
   },
   "outputs": [],
   "source": [
    "import numpy as np"
   ]
  },
  {
   "cell_type": "code",
   "execution_count": 47,
   "metadata": {
    "id": "oTOsTH4PFj-l"
   },
   "outputs": [],
   "source": [
    "# 밑바닥부터 시작하는 딥러닝 p.127 \n",
    "def numerical_gradient_of_scalar_function_wrt_vector_x(f, x): \n",
    "    h = 1e-4 # 0.0001 \n",
    "    grad = np.zeros_like(x) # x와 형상이 같은 배열을 생성 \n",
    "    \n",
    "    # The partial differential of function f with respect to x_idx \n",
    "    for idx in range(x.size): \n",
    "        tmp_val = x[idx] \n",
    "\n",
    "        # f(x+h)\n",
    "        x[idx] = tmp_val + h  ## x0 관점 에서 h 만큼을 이동한것이다 . x1 에 변화는 없다.  \n",
    "        f_x_plus_h = f(x+h) ## x0 +h 값을 더한 fx 함수값을 지정 \n",
    "         \n",
    "        # f(x) \n",
    "        x[idx] = tmp_val \n",
    "        fx = f(x) \n",
    "        \n",
    "        grad[idx] = (f_x_plus_h + fx)/h\n",
    "        \n",
    "        #x[idx] = tmp_val \n",
    "    \n",
    "    return grad"
   ]
  },
  {
   "cell_type": "code",
   "execution_count": 56,
   "metadata": {
    "id": "GekQKupHF-Nv"
   },
   "outputs": [
    {
     "data": {
      "text/plain": [
       "array([200016, 200016])"
      ]
     },
     "execution_count": 56,
     "metadata": {},
     "output_type": "execute_result"
    }
   ],
   "source": [
    "# 밑바닥부터 시작하는 딥러닝 p.128q\n",
    "numerical_gradient_of_scalar_function_wrt_vector_x(rice_bowl_function, np.array([1,2]))"
   ]
  },
  {
   "cell_type": "code",
   "execution_count": null,
   "metadata": {},
   "outputs": [],
   "source": []
  },
  {
   "cell_type": "code",
   "execution_count": 29,
   "metadata": {
    "id": "c43VDGemF-tR"
   },
   "outputs": [
    {
     "data": {
      "text/plain": [
       "array([80004.0005, 80008.0005])"
      ]
     },
     "execution_count": 29,
     "metadata": {},
     "output_type": "execute_result"
    }
   ],
   "source": [
    "numerical_gradient_of_scalar_function_wrt_vector_x(rice_bowl_function, np.array([0.0, 2.0]))"
   ]
  },
  {
   "cell_type": "code",
   "execution_count": 30,
   "metadata": {
    "id": "CUzlBuLcF-qz"
   },
   "outputs": [
    {
     "data": {
      "text/plain": [
       "array([180012.0005, 180006.0005])"
      ]
     },
     "execution_count": 30,
     "metadata": {},
     "output_type": "execute_result"
    }
   ],
   "source": [
    "numerical_gradient_of_scalar_function_wrt_vector_x(rice_bowl_function, np.array([3.0, 0.0]))"
   ]
  },
  {
   "cell_type": "code",
   "execution_count": 31,
   "metadata": {
    "id": "XYirvi1rF-f_"
   },
   "outputs": [],
   "source": [
    "# 밑바닥부터 시작하는 딥러닝 p.129\n",
    "import matplotlib.pylab as plt"
   ]
  },
  {
   "cell_type": "code",
   "execution_count": 11,
   "metadata": {
    "id": "9X9_Bu56F-dO"
   },
   "outputs": [],
   "source": [
    "def numerical_gradient(f, X): \n",
    "    def numerical_gradient_of_scalar_function_wrt_vector_x(f, x): \n",
    "        h = 1e-4 # 0.0001 \n",
    "        grad = np.zeros_like(x) # x와 형상이 같은 배열을 생성 \n",
    "        \n",
    "        # The partial differential of function f with respect to x_idx \n",
    "        for idx in range(x.size): \n",
    "            tmp_val = x[idx] \n",
    "\n",
    "            # f(x+h)\n",
    "            x[idx] = tmp_val + h \n",
    "            f_x_plus_h = f(x)\n",
    "            \n",
    "            # f(x) \n",
    "            x[idx] = tmp_val \n",
    "            fx = f(x) \n",
    "            grad[idx] = (f_x_plus_h - fx) / h \n",
    "            \n",
    "            #x[idx] = tmp_val \n",
    "        \n",
    "        return grad\n",
    "    \n",
    "    if X.ndim == 1:\n",
    "        return numerical_gradient_of_scalar_function_wrt_vector_x(f, X)\n",
    "    else:\n",
    "        grad = np.zeros_like(X)\n",
    "        \n",
    "        for idx, x in enumerate(X):\n",
    "            grad[idx] = numerical_gradient_of_scalar_function_wrt_vector_x(f, x)\n",
    "        \n",
    "        return grad "
   ]
  },
  {
   "cell_type": "markdown",
   "metadata": {
    "id": "rVz5tEouJaVG"
   },
   "source": [
    "![image.png](data:image/png;base64,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)"
   ]
  },
  {
   "cell_type": "code",
   "execution_count": 22,
   "metadata": {
    "id": "GCH7dVxoF-Y2"
   },
   "outputs": [],
   "source": [
    "# [3강] 벡터.행렬.편미분.전미분.최적화.pdf p.21 ~ 31  \n",
    "# [Day2]_Gradient Descent and Searching Space Topology.pdf p.35 \n",
    "# 밑바닥부터 시작하는 딥러닝 p.131\n",
    "def gradient_descent(f, x_0, eta=0.01, max_iter=100): \n",
    "    x_k = x_0 \n",
    "    \n",
    "    for k in range(max_iter): \n",
    "        \n",
    "        g_k = numerical_gradient(f,x_k)\n",
    "        partial_x_k = -g_k \n",
    "        x_k_plus_1 = x_k + eta*partial_x_k\n",
    "        \n",
    "\n",
    "        x_k = x_k_plus_1\n",
    "        \n",
    "    return x_k"
   ]
  },
  {
   "cell_type": "code",
   "execution_count": 16,
   "metadata": {
    "id": "RN_bA8_xF-XQ"
   },
   "outputs": [],
   "source": [
    "# 밑바닥부터 시작하는 딥러닝 p.132\n",
    "def rice_bowl_function(x):  #x1\n",
    "    return x[0]**2 + x[1]**2"
   ]
  },
  {
   "cell_type": "code",
   "execution_count": 24,
   "metadata": {
    "id": "7IGDxZhwF-VP"
   },
   "outputs": [],
   "source": [
    "x_0 = np.array([3.0, 4.0])"
   ]
  },
  {
   "cell_type": "code",
   "execution_count": 38,
   "metadata": {
    "id": "kGy3aorOF-S2"
   },
   "outputs": [
    {
     "data": {
      "text/plain": [
       "array([-4.99993889e-05, -4.99991852e-05])"
      ]
     },
     "execution_count": 38,
     "metadata": {},
     "output_type": "execute_result"
    }
   ],
   "source": [
    "gradient_descent(rice_bowl_function, x_0=x_0, eta=0.1, max_iter=100)"
   ]
  },
  {
   "cell_type": "code",
   "execution_count": 15,
   "metadata": {
    "id": "HYBUE56yFj8c"
   },
   "outputs": [
    {
     "data": {
      "image/png": "[encoded data removed]",
      "text/plain": [
       "<Figure size 432x288 with 1 Axes>"
      ]
     },
     "metadata": {
      "needs_background": "light"
     },
     "output_type": "display_data"
    }
   ],
   "source": [
    "eta = 0.1\n",
    "max_iter = 20\n",
    "\n",
    "def _gradient_descent(f, x_0, eta=0.01, max_iter=100):\n",
    "    x = x_0\n",
    "    x_history = []\n",
    "\n",
    "    for k in range(max_iter):\n",
    "        x_history.append( x.copy() )\n",
    "\n",
    "        g = numerical_gradient(f, x) \n",
    "        x = x - eta * g \n",
    "\n",
    "    return x, np.array(x_history)\n",
    "\n",
    "def _function_2(x):\n",
    "    if x.ndim == 1:\n",
    "        return np.sum(x**2)\n",
    "    else:\n",
    "        return np.sum(x**2, axis=1)\n",
    "\n",
    "x_0 = np.array([-3.0, 4.0])    \n",
    "\n",
    "x, x_history = _gradient_descent(_function_2, x_0, eta=eta, max_iter=max_iter)\n",
    "\n",
    "plt.plot( [-5, 5], [0,0], '--r')\n",
    "plt.plot( [0,0], [-5, 5], '--r')\n",
    "plt.plot(x_history[:,0], x_history[:,1], 'bo')\n",
    "\n",
    "# https://www.geeksforgeeks.org/contour-plot-using-matplotlib-python/\n",
    "feature_x = np.linspace(-3.5, 3.5, 70) \n",
    "feature_y = np.linspace(-4.5, 4.5, 70) \n",
    "  \n",
    "# Creating 2-D grid of features \n",
    "[X, Y] = np.meshgrid(feature_x, feature_y) \n",
    "  \n",
    "Z = X ** 2 + Y ** 2\n",
    "  \n",
    "# plots filled contour plot \n",
    "plt.contourf(X, Y, Z) \n",
    "\n",
    "plt.xlim(-3.5, 3.5)\n",
    "plt.ylim(-4.5, 4.5)\n",
    "plt.xlabel(\"X0\")\n",
    "plt.ylabel(\"X1\")\n",
    "plt.show()"
   ]
  },
  {
   "cell_type": "code",
   "execution_count": null,
   "metadata": {},
   "outputs": [],
   "source": []
  },
  {
   "cell_type": "code",
   "execution_count": null,
   "metadata": {},
   "outputs": [],
   "source": []
  },
  {
   "cell_type": "code",
   "execution_count": null,
   "metadata": {},
   "outputs": [],
   "source": []
  },
  {
   "cell_type": "code",
   "execution_count": null,
   "metadata": {},
   "outputs": [],
   "source": []
  },
  {
   "cell_type": "code",
   "execution_count": null,
   "metadata": {},
   "outputs": [],
   "source": []
  }
 ],
 "metadata": {
  "colab": {
   "collapsed_sections": [],
   "name": "1_Practice_09082021_student.ipynb",
   "provenance": []
  },
  "kernelspec": {
   "display_name": "Python 3 (ipykernel)",
   "language": "python",
   "name": "python3"
  },
  "language_info": {
   "codemirror_mode": {
    "name": "ipython",
    "version": 3
   },
   "file_extension": ".py",
   "mimetype": "text/x-python",
   "name": "python",
   "nbconvert_exporter": "python",
   "pygments_lexer": "ipython3",
   "version": "3.9.6"
  }
 },
 "nbformat": 4,
 "nbformat_minor": 1
}
