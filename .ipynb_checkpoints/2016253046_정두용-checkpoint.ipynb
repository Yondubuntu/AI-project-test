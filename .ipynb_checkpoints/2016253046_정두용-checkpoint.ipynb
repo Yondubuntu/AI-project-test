{
 "cells": [
  {
   "cell_type": "code",
   "execution_count": 37,
   "id": "5cf1f456",
   "metadata": {},
   "outputs": [],
   "source": [
    "import numpy as np \n",
    "import matplotlib.pyplot as plt\n",
    "\n",
    "\n",
    "def rice_bowl_function(x): \n",
    "    return 2*(x[0]**2) + 4*x[0]*x[1]\n",
    "    # return None \n",
    "    "
   ]
  },
  {
   "cell_type": "code",
   "execution_count": 29,
   "id": "26d44f23",
   "metadata": {},
   "outputs": [],
   "source": [
    "# 밑바닥부터 시작하는 딥러닝 p.127 \n",
    "def numerical_gradient_of_scalar_function_wrt_vector_x(f, x): \n",
    "    h = 1e-4 # 0.0001 \n",
    "    grad = np.zeros_like(x) # x와 형상이 같은 배열을 생성 \n",
    "    \n",
    "    # The partial differential of function f with respect to x_idx \n",
    "    for idx in range(x.size): \n",
    "        tmp_val = x[idx] \n",
    "\n",
    "        # f(x+h)\n",
    "        x[idx] = tmp_val + h\n",
    "        f_x_plus_h = f(x)\n",
    "        \n",
    "        # f(x) \n",
    "        x[idx] = tmp_val\n",
    "        fx = f(x)\n",
    "        \n",
    "        \n",
    "        grad[idx] = (f_x_plus_h - fx) / h \n",
    "        \n",
    "        #x[idx] = tmp_val \n",
    "    \n",
    "    return grad"
   ]
  },
  {
   "cell_type": "code",
   "execution_count": 30,
   "id": "c5e4352e",
   "metadata": {},
   "outputs": [],
   "source": [
    "def numerical_gradient(f, X): \n",
    "    def numerical_gradient_of_scalar_function_wrt_vector_x(f, x): \n",
    "        \n",
    "        h = 1e-4 # 0.0001 \n",
    "        \n",
    "        grad = np.zeros_like(x) # x와 형상이 같은 배열을 생성 \n",
    "        \n",
    "        # The partial differential of funct`ion f with respect to x_idx \n",
    "      \n",
    "        for idx in range(x.size): \n",
    "            tmp_val = x[idx] \n",
    "\n",
    "            # f(x+h)\n",
    "            x[idx] = tmp_val + h \n",
    "            f_x_plus_h = f(x)\n",
    "            \n",
    "            # f(x) \n",
    "            x[idx] = tmp_val \n",
    "            fx = f(x) \n",
    "            \n",
    "            grad[idx] = (f_x_plus_h - fx) / h \n",
    "            \n",
    "            #x[idx] = tmp_val \n",
    "        \n",
    "        return grad\n",
    "    if X.ndim == 1:\n",
    "        return numerical_gradient_of_scalar_function_wrt_vector_x(f, X)\n",
    "    else:\n",
    "        grad = np.zeros_like(X)\n",
    "        \n",
    "        for idx, x in enumerate(X):\n",
    "            grad[idx] = numerical_gradient_of_scalar_function_wrt_vector_x(f, x)\n",
    "        \n",
    "        return grad "
   ]
  },
  {
   "cell_type": "code",
   "execution_count": 31,
   "id": "a7d8d3d6",
   "metadata": {},
   "outputs": [],
   "source": [
    "def numerical_diff(f, x): \n",
    "    h = 1e-5 # 0.00001 \n",
    "    #return ( f(x + h) - f(x - h) ) / (2 * h)   # Symmetric derivative \n",
    "    return (f(x + h) - f(x)) / h                # Derivative "
   ]
  },
  {
   "cell_type": "code",
   "execution_count": 32,
   "id": "ac0cacb3",
   "metadata": {
    "scrolled": true
   },
   "outputs": [
    {
     "data": {
      "text/plain": [
       "array([8.0002, 4.    ])"
      ]
     },
     "execution_count": 32,
     "metadata": {},
     "output_type": "execute_result"
    }
   ],
   "source": [
    "# 밑바닥부터 시작하는 딥러닝 p.128\n",
    "numerical_gradient_of_scalar_function_wrt_vector_x(rice_bowl_function, np.array([1.0, 1.0]))"
   ]
  },
  {
   "cell_type": "code",
   "execution_count": 33,
   "id": "b575e278",
   "metadata": {},
   "outputs": [],
   "source": [
    "# [3강] 벡터.행렬.편미분.전미분.최적화.pdf p.21 ~ 31  \n",
    "# [Day2]_Gradient Descent and Searching Space Topology.pdf p.35 \n",
    "# 밑바닥부터 시작하는 딥러닝 p.131\n",
    "def gradient_descent(f, x_0, eta=0.001, max_iter=10000): \n",
    "    x_k = x_0 \n",
    "    \n",
    "    for k in range(max_iter): \n",
    "        g_k = numerical_gradient(f, x_k)\n",
    "        partial_x_k = -g_k\n",
    "        x_k_plus_1 = x_k + eta * partial_x_k\n",
    "        \n",
    "\n",
    "        x_k = x_k_plus_1\n",
    "        \n",
    "        \n",
    "    return x_k # 최적화 값."
   ]
  },
  {
   "cell_type": "code",
   "execution_count": 34,
   "id": "d21c82b4",
   "metadata": {},
   "outputs": [],
   "source": [
    "x_0 = np.array([1.0, 1.0]) # 초기값, 시작점"
   ]
  },
  {
   "cell_type": "code",
   "execution_count": 35,
   "id": "6ec17aa6",
   "metadata": {},
   "outputs": [
    {
     "data": {
      "text/plain": [
       "array([-9.02784823e+09,  1.45653242e+10])"
      ]
     },
     "execution_count": 35,
     "metadata": {},
     "output_type": "execute_result"
    }
   ],
   "source": [
    "gradient_descent(rice_bowl_function, x_0=x_0, eta=0.001, max_iter=10000) # eta는 아주 작은 값은 상수로 고정한다."
   ]
  },
  {
   "cell_type": "code",
   "execution_count": 39,
   "id": "b31c01ec",
   "metadata": {},
   "outputs": [
    {
     "data": {
      "image/png": "[encoded data removed]",
      "text/plain": [
       "<Figure size 432x288 with 1 Axes>"
      ]
     },
     "metadata": {
      "needs_background": "light"
     },
     "output_type": "display_data"
    }
   ],
   "source": [
    "eta = 0.1\n",
    "max_iter = 100000\n",
    "\n",
    "def _gradient_descent(f, x_0, eta=0.0001, max_iter=10000):\n",
    "    x = x_0\n",
    "    x_history = []\n",
    "\n",
    "    for k in range(max_iter):\n",
    "        x_history.append( x.copy() )\n",
    "\n",
    "        g = numerical_gradient(f, x) \n",
    "        x = x - eta * g \n",
    "\n",
    "    return x, np.array(x_history)\n",
    "\n",
    "def rice_bowl_function(x): \n",
    "    return 2*(x[0]**2) + 4*x[0]*x[1] #  Objective function\n",
    "\n",
    "x_0 = np.array([-3.0, 4.0])    \n",
    "\n",
    "x, x_history = _gradient_descent(rice_bowl_function, x_0, eta=eta, max_iter=max_iter)\n",
    "\n",
    "plt.plot( [-5, 5], [0,0], '--r')\n",
    "plt.plot( [0,0], [-5, 5], '--r')\n",
    "plt.plot(x_history[:,0], x_history[:,1], 'bo')\n",
    "\n",
    "# https://www.geeksforgeeks.org/contour-plot-using-matplotlib-python/\n",
    "feature_x = np.linspace(-100, 100, 70) \n",
    "feature_y = np.linspace(-100, 100, 70) \n",
    "  \n",
    "# Creating 2-D grid of features \n",
    "[X, Y] = np.meshgrid(feature_x, feature_y) \n",
    "  \n",
    "Z = X ** 2 + Y ** 2\n",
    "  \n",
    "# plots filled contour plot \n",
    "plt.contourf(X, Y, Z) \n",
    "\n",
    "plt.xlim(-100, 100)\n",
    "plt.ylim(-100, 100)\n",
    "# plt.xlim(-3.5, 3.5)\n",
    "# plt.ylim(-4.5, 4.5)\n",
    "plt.xlabel(\"l*\")\n",
    "plt.ylabel(\"h*\")\n",
    "plt.show()"
   ]
  },
  {
   "cell_type": "code",
   "execution_count": null,
   "id": "0f8cbdc9",
   "metadata": {},
   "outputs": [],
   "source": []
  }
 ],
 "metadata": {
  "kernelspec": {
   "display_name": "Python 3 (ipykernel)",
   "language": "python",
   "name": "python3"
  },
  "language_info": {
   "codemirror_mode": {
    "name": "ipython",
    "version": 3
   },
   "file_extension": ".py",
   "mimetype": "text/x-python",
   "name": "python",
   "nbconvert_exporter": "python",
   "pygments_lexer": "ipython3",
   "version": "3.9.6"
  }
 },
 "nbformat": 4,
 "nbformat_minor": 5
}
