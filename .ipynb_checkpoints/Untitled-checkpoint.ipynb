{
 "cells": [
  {
   "cell_type": "code",
   "execution_count": 19,
   "id": "b310867b",
   "metadata": {},
   "outputs": [],
   "source": [
    "import numpy as np "
   ]
  },
  {
   "cell_type": "code",
   "execution_count": 20,
   "id": "a990a884",
   "metadata": {},
   "outputs": [],
   "source": [
    "def rice_bowl_function(x): \n",
    "    return 2*x[0]**2 + 4*x[0]*x[1]\n",
    "    # return None "
   ]
  },
  {
   "cell_type": "code",
   "execution_count": 30,
   "id": "999a0ffa",
   "metadata": {},
   "outputs": [
    {
     "ename": "IndentationError",
     "evalue": "unindent does not match any outer indentation level (<tokenize>, line 25)",
     "output_type": "error",
     "traceback": [
      "\u001b[0;36m  File \u001b[0;32m\"<tokenize>\"\u001b[0;36m, line \u001b[0;32m25\u001b[0m\n\u001b[0;31m    if X.ndim == 1:\u001b[0m\n\u001b[0m    ^\u001b[0m\n\u001b[0;31mIndentationError\u001b[0m\u001b[0;31m:\u001b[0m unindent does not match any outer indentation level\n"
     ]
    }
   ],
   "source": [
    "def numerical_gradient(f, X): \n",
    "    def numerical_gradient_of_scalar_function_wrt_vector_x(f, x): \n",
    "        \n",
    "        h = 1e-4 # 0.0001 \n",
    "        \n",
    "        grad = np.zeros_like(x) # x와 형상이 같은 배열을 생성 \n",
    "        \n",
    "        # The partial differential of function f with respect to x_idx \n",
    "        for idx in range(x.size): \n",
    "            tmp_val = x[idx] \n",
    "\n",
    "            # f(x+h)\n",
    "            x[idx] = tmp_val + h \n",
    "            f_x_plus_h = f(x)\n",
    "            \n",
    "            # f(x) \n",
    "            x[idx] = tmp_val \n",
    "            fx = f(x) \n",
    "            \n",
    "            grad[idx] = (f_x_plus_h - fx) / h \n",
    "            \n",
    "            #x[idx] = tmp_val \n",
    "        \n",
    "        return grad\n",
    "     if X.ndim == 1:\n",
    "        return numerical_gradient_of_scalar_function_wrt_vector_x(f, X)\n",
    "    else:\n",
    "        grad = np.zeros_like(X)\n",
    "        \n",
    "        for idx, x in enumerate(X):\n",
    "            grad[idx] = numerical_gradient_of_scalar_function_wrt_vector_x(f, x)\n",
    "        \n",
    "        return grad "
   ]
  },
  {
   "cell_type": "code",
   "execution_count": null,
   "id": "a4d62326",
   "metadata": {},
   "outputs": [],
   "source": [
    "def gradient_descent(f, x_0, eta=0.01, max_iter=100): \n",
    "    x_k = x_0 \n",
    "    \n",
    "    for k in range(max_iter): \n",
    "        \n",
    "        g_k = numerical_gradient(f,x_k)\n",
    "        partial_x_k = -g_k \n",
    "        x_k_plus_1 = x_k + eta*partial_x_k\n",
    "        \n",
    "\n",
    "        x_k = x_k_plus_1\n",
    "        \n",
    "    return x_k"
   ]
  },
  {
   "cell_type": "code",
   "execution_count": 25,
   "id": "19e8a872",
   "metadata": {},
   "outputs": [],
   "source": [
    "def numerical_gradient(f, X): \n",
    "    def numerical_gradient_of_scalar_function_wrt_vector_x(f, x): \n",
    "        h = 1e-4 # 0.0001 \n",
    "        grad = np.zeros_like(x) # x와 형상이 같은 배열을 생성 \n",
    "        \n",
    "        # The partial differential of function f with respect to x_idx \n",
    "        for idx in range(x.size): \n",
    "            tmp_val = x[idx] \n",
    "\n",
    "            # f(x+h)\n",
    "            x[idx] = tmp_val + h \n",
    "            f_x_plus_h = f(x)\n",
    "            \n",
    "            # f(x) \n",
    "            x[idx] = tmp_val \n",
    "            fx = f(x) \n",
    "            \n",
    "            grad[idx] = (f_x_plus_h - fx) / h \n",
    "            \n",
    "            #x[idx] = tmp_val \n",
    "        \n",
    "        return grad\n",
    "    \n",
    "    if X.ndim == 1:\n",
    "        return numerical_gradient_of_scalar_function_wrt_vector_x(f, X)\n",
    "    else:\n",
    "        grad = np.zeros_like(X)\n",
    "        \n",
    "        for idx, x in enumerate(X):\n",
    "            grad[idx] = numerical_gradient_of_scalar_function_wrt_vector_x(f, x)\n",
    "        \n",
    "        return grad "
   ]
  },
  {
   "cell_type": "code",
   "execution_count": 26,
   "id": "757f97de",
   "metadata": {},
   "outputs": [
    {
     "ename": "NameError",
     "evalue": "name 'numerical_gradient_of_scalar_function_wrt_vector_x' is not defined",
     "output_type": "error",
     "traceback": [
      "\u001b[0;31m---------------------------------------------------------------------------\u001b[0m",
      "\u001b[0;31mNameError\u001b[0m                                 Traceback (most recent call last)",
      "\u001b[0;32m/var/folders/ht/4d122qr50vs5jr5k781my7yr0000gn/T/ipykernel_49623/215501941.py\u001b[0m in \u001b[0;36m<module>\u001b[0;34m\u001b[0m\n\u001b[0;32m----> 1\u001b[0;31m \u001b[0mnumerical_gradient_of_scalar_function_wrt_vector_x\u001b[0m\u001b[0;34m(\u001b[0m\u001b[0mrice_bowl_function\u001b[0m\u001b[0;34m,\u001b[0m \u001b[0mnp\u001b[0m\u001b[0;34m.\u001b[0m\u001b[0marray\u001b[0m\u001b[0;34m(\u001b[0m\u001b[0;34m[\u001b[0m\u001b[0;36m0.0\u001b[0m\u001b[0;34m,\u001b[0m \u001b[0;36m0.0\u001b[0m\u001b[0;34m]\u001b[0m\u001b[0;34m)\u001b[0m\u001b[0;34m)\u001b[0m\u001b[0;34m\u001b[0m\u001b[0;34m\u001b[0m\u001b[0m\n\u001b[0m",
      "\u001b[0;31mNameError\u001b[0m: name 'numerical_gradient_of_scalar_function_wrt_vector_x' is not defined"
     ]
    }
   ],
   "source": [
    "numerical_gradient_of_scalar_function_wrt_vector_x(rice_bowl_function, np.array([0.0, 0.0]))"
   ]
  },
  {
   "cell_type": "code",
   "execution_count": 4,
   "id": "8d7feee5",
   "metadata": {},
   "outputs": [],
   "source": [
    "# [3강] 벡터.행렬.편미분.전미분.최적화.pdf p.21 ~ 31  \n",
    "# [Day2]_Gradient Descent and Searching Space Topology.pdf p.35 \n",
    "# 밑바닥부터 시작하는 딥러닝 p.131\n",
    "def gradient_descent(f, x_0, eta=0.01, max_iter=100): \n",
    "    x_k = x_0 \n",
    "    \n",
    "    for k in range(max_iter): \n",
    "        \n",
    "        g_k = numerical_gradient(f,x_k)\n",
    "        partial_x_k = -g_k \n",
    "        x_k_plus_1 = x_k + eta*partial_x_k\n",
    "        \n",
    "\n",
    "        x_k = x_k_plus_1\n",
    "        print (x_k)\n",
    "    return x_k"
   ]
  },
  {
   "cell_type": "code",
   "execution_count": 10,
   "id": "f7c561db",
   "metadata": {},
   "outputs": [],
   "source": [
    "x_0 = np.array([+1.0, 5.0])"
   ]
  },
  {
   "cell_type": "code",
   "execution_count": 16,
   "id": "2d15e943",
   "metadata": {},
   "outputs": [],
   "source": [
    "def rice_bowl_function(x): \n",
    "    return 2*x[0]**2 + 4*x[0]*x[1]\n",
    "    # return None "
   ]
  },
  {
   "cell_type": "code",
   "execution_count": 11,
   "id": "f4f1d989",
   "metadata": {},
   "outputs": [
    {
     "name": "stdout",
     "output_type": "stream",
     "text": [
      "[-1.40002  4.6    ]\n",
      "[-2.680032  5.160008]\n",
      "[-3.6720424  6.2320208]\n",
      "[-4.69605376  7.70083776]\n",
      "[-5.89798736  9.57925926]\n",
      "[-7.37051612 11.93845421]\n",
      "[-9.19771136 14.88666066]\n",
      "[-11.47331108  18.5657452 ]\n",
      "[-14.31030473  23.15506963]\n",
      "[-17.84823069  28.87919152]\n",
      "[-22.26063502  36.0184838 ]\n",
      "[-27.76379453  44.9227378 ]\n",
      "[-34.62739184  56.02825562]\n",
      "[-43.18775735  69.87921235]\n",
      "[-53.86435935  87.15431529]\n",
      "[-67.18036172 108.70005903]\n",
      "[-83.78826064 135.57220372]\n",
      "[-104.50185788  169.08750798]\n",
      "[-130.33613791  210.88825114]\n",
      "[-162.55700321  263.02270631]\n",
      "[-202.74330446  328.04550756]\n",
      "[-252.86420575  409.14282932]\n",
      "[-315.37567522  510.2885116 ]\n",
      "[-393.34082982  636.43878171]\n",
      "[-490.58003054  793.77511361]\n",
      "[-611.85808369  990.00712608]\n",
      "[-763.1177202  1234.75035963]\n",
      "[-951.77079534 1539.99744759]\n",
      "[-1187.06147681  1920.70576486]\n",
      "[-1480.51921308  2395.53035547]\n",
      "[-1846.5236894   2987.73804245]\n",
      "[-2303.00945259  3726.34752033]\n",
      "[-2872.34470464  4647.55130497]\n",
      "[-3582.42736972  5796.48918596]\n",
      "[-4468.05212117  7229.46012703]\n",
      "[-5572.61535741  9016.68096272]\n",
      "[-6950.24162746 11245.72709886]\n",
      "[-8668.43581415 14025.82374898]\n",
      "[-10811.39093853  17493.19807378]\n",
      "[-13484.113755    21817.75442449]\n",
      "[-16817.57015205  27211.39994947]\n",
      "[-20975.10236717  33938.42784253]\n",
      "[-26160.43251968  42328.46824018]\n",
      "[-32627.6466272   52792.64155713]\n",
      "[-40693.64470459  65843.69937268]\n",
      "[-50753.66515137  82121.1575636 ]\n",
      "[-63300.66031433 102422.62545911]\n",
      "[-78949.44113709 127742.89218274]\n",
      "[-98466.82089783 159322.67276136]\n",
      "[-122809.16708923  198709.40677014]\n",
      "[-153169.25925232  247833.0792555 ]\n",
      "[-191034.7988031   309100.77945081]\n",
      "[-238261.20871521  385514.65884534]\n",
      "[-297162.63693787  480819.10220471]\n",
      "[-370625.28342224  599684.09243909]\n",
      "[-462248.81857849  747934.09243909]\n",
      "[-576522.86643005  932833.50650159]\n",
      "[-719046.7922113  1163442.63736096]\n",
      "[-896805.09299255 1451061.28970471]\n",
      "[-1118507.7297113   1809782.96939221]\n",
      "[-1395019.4484613   2257185.31314221]\n",
      "[-1739885.6593988   2815191.17251721]\n",
      "[-2170006.7531488   3511144.29751721]\n",
      "[-2706459.8781488   4379144.29751721]\n",
      "[-3375534.0968988   5461730.23501721]\n",
      "[-4210018.4718988   6811948.98501721]\n",
      "[-5250784.0968988   8495948.98501721]\n",
      "[-6548846.5968988  10596230.23501721]\n",
      "[-8167784.0968988  13215730.23501721]\n",
      "[-10186909.0968988   16482855.23501721]\n",
      "[-12705409.0968988   20557605.23501721]\n",
      "[-15846409.0968988   25639855.23501721]\n",
      "[-19763909.0968988   31978605.23501721]\n",
      "[-24649659.0968988   39884105.23501721]\n",
      "[-30743659.0968988   49744105.23501721]\n",
      "[-38343659.0968988   62041105.23501721]\n",
      "[-47821659.0968988   77379105.23501721]\n",
      "[-59643659.0968988   96507105.23501721]\n",
      "[-7.43896591e+07  1.20367105e+08]\n",
      "[-9.27776591e+07  1.50127105e+08]\n",
      "[-1.15721659e+08  1.87231105e+08]\n",
      "[-1.44321659e+08  2.33519105e+08]\n",
      "[-1.79985659e+08  2.91247105e+08]\n",
      "[-2.24465659e+08  3.63247105e+08]\n",
      "[-2.79953659e+08  4.53039105e+08]\n",
      "[-3.49201659e+08  5.65039105e+08]\n",
      "[-4.35537659e+08  7.04687105e+08]\n",
      "[-5.43441659e+08  8.78767105e+08]\n",
      "[-6.77585659e+08  1.09636711e+09]\n",
      "[-8.45009659e+08  1.36721511e+09]\n",
      "[-1.05339366e+09  1.70513511e+09]\n",
      "[-1.31451366e+09  2.12599911e+09]\n",
      "[-1.63912166e+09  2.65233511e+09]\n",
      "[-2.04462566e+09  3.30974311e+09]\n",
      "[-2.54843366e+09  4.12894311e+09]\n",
      "[-3.17921766e+09  5.15294311e+09]\n",
      "[-3.96564966e+09  6.43089511e+09]\n",
      "[-4.96507366e+09  8.02014311e+09]\n",
      "[-6.17748966e+09  1.00189911e+10]\n",
      "[-7.71758566e+09  1.24765911e+10]\n"
     ]
    },
    {
     "data": {
      "text/plain": [
       "array([-7.71758566e+09,  1.24765911e+10])"
      ]
     },
     "execution_count": 11,
     "metadata": {},
     "output_type": "execute_result"
    }
   ],
   "source": [
    "gradient_descent(rice_bowl_function, x_0=x_0, eta=0.1, max_iter=100)"
   ]
  }
 ],
 "metadata": {
  "kernelspec": {
   "display_name": "Python 3 (ipykernel)",
   "language": "python",
   "name": "python3"
  },
  "language_info": {
   "codemirror_mode": {
    "name": "ipython",
    "version": 3
   },
   "file_extension": ".py",
   "mimetype": "text/x-python",
   "name": "python",
   "nbconvert_exporter": "python",
   "pygments_lexer": "ipython3",
   "version": "3.9.6"
  }
 },
 "nbformat": 4,
 "nbformat_minor": 5
}
