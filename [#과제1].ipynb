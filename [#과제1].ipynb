{
 "cells": [
  {
   "cell_type": "code",
   "execution_count": 75,
   "id": "removable-retirement",
   "metadata": {},
   "outputs": [],
   "source": [
    "import numpy as np # numpy import 함. \n",
    "import matplotlib.pyplot as plt # 각각 함수 만들고, 시각화 하기 위해 matplotlib import\n",
    "from scipy.optimize import minimize"
   ]
  },
  {
   "cell_type": "code",
   "execution_count": 79,
   "id": "external-neutral",
   "metadata": {},
   "outputs": [
    {
     "ename": "ZeroDivisionError",
     "evalue": "division by zero",
     "output_type": "error",
     "traceback": [
      "\u001b[1;31m---------------------------------------------------------------------------\u001b[0m",
      "\u001b[1;31mZeroDivisionError\u001b[0m                         Traceback (most recent call last)",
      "\u001b[1;32m<ipython-input-79-ff0a4a8e54d1>\u001b[0m in \u001b[0;36m<module>\u001b[1;34m\u001b[0m\n\u001b[0;32m      1\u001b[0m \u001b[0mx\u001b[0m \u001b[1;33m=\u001b[0m \u001b[0mnp\u001b[0m\u001b[1;33m.\u001b[0m\u001b[0marange\u001b[0m\u001b[1;33m(\u001b[0m\u001b[1;36m1\u001b[0m\u001b[1;33m,\u001b[0m \u001b[1;36m100\u001b[0m\u001b[1;33m,\u001b[0m \u001b[1;36m0.1\u001b[0m\u001b[1;33m)\u001b[0m\u001b[1;33m\u001b[0m\u001b[1;33m\u001b[0m\u001b[0m\n\u001b[0;32m      2\u001b[0m \u001b[0mplt\u001b[0m\u001b[1;33m.\u001b[0m\u001b[0mplot\u001b[0m\u001b[1;33m(\u001b[0m\u001b[0mx\u001b[0m\u001b[1;33m,\u001b[0m \u001b[0mrice_bowl_function\u001b[0m\u001b[1;33m(\u001b[0m\u001b[0mx\u001b[0m\u001b[1;33m)\u001b[0m\u001b[1;33m)\u001b[0m\u001b[1;33m\u001b[0m\u001b[1;33m\u001b[0m\u001b[0m\n\u001b[1;32m----> 3\u001b[1;33m \u001b[0mplt\u001b[0m\u001b[1;33m.\u001b[0m\u001b[0mscatter\u001b[0m\u001b[1;33m(\u001b[0m\u001b[1;36m0\u001b[0m\u001b[1;33m,\u001b[0m \u001b[0mrice_bowl_function\u001b[0m\u001b[1;33m(\u001b[0m\u001b[1;36m0\u001b[0m\u001b[1;33m)\u001b[0m\u001b[1;33m,\u001b[0m \u001b[0ms\u001b[0m\u001b[1;33m=\u001b[0m\u001b[1;36m200\u001b[0m\u001b[1;33m)\u001b[0m\u001b[1;33m\u001b[0m\u001b[1;33m\u001b[0m\u001b[0m\n\u001b[0m\u001b[0;32m      4\u001b[0m \u001b[0mplt\u001b[0m\u001b[1;33m.\u001b[0m\u001b[0mxlabel\u001b[0m\u001b[1;33m(\u001b[0m\u001b[1;34m\"x\"\u001b[0m\u001b[1;33m)\u001b[0m\u001b[1;33m\u001b[0m\u001b[1;33m\u001b[0m\u001b[0m\n\u001b[0;32m      5\u001b[0m \u001b[0mplt\u001b[0m\u001b[1;33m.\u001b[0m\u001b[0mylabel\u001b[0m\u001b[1;33m(\u001b[0m\u001b[1;34m\"$f(x)$\"\u001b[0m\u001b[1;33m)\u001b[0m\u001b[1;33m\u001b[0m\u001b[1;33m\u001b[0m\u001b[0m\n",
      "\u001b[1;32m<ipython-input-76-c5fae55176d7>\u001b[0m in \u001b[0;36mrice_bowl_function\u001b[1;34m(l)\u001b[0m\n\u001b[0;32m      2\u001b[0m \u001b[1;32mdef\u001b[0m \u001b[0mrice_bowl_function\u001b[0m\u001b[1;33m(\u001b[0m\u001b[0ml\u001b[0m\u001b[1;33m)\u001b[0m\u001b[1;33m:\u001b[0m\u001b[1;33m\u001b[0m\u001b[1;33m\u001b[0m\u001b[0m\n\u001b[0;32m      3\u001b[0m \u001b[1;31m#     return 2*(x**2) + 4*x*y # scipy 최적화를 하기 위해서 변수는 리스트 형으로 만들어줘야 한다.\u001b[0m\u001b[1;33m\u001b[0m\u001b[1;33m\u001b[0m\u001b[1;33m\u001b[0m\u001b[0m\n\u001b[1;32m----> 4\u001b[1;33m     \u001b[1;32mreturn\u001b[0m \u001b[1;36m4\u001b[0m\u001b[1;33m*\u001b[0m\u001b[0ml\u001b[0m \u001b[1;33m-\u001b[0m \u001b[1;33m(\u001b[0m \u001b[1;36m32\u001b[0m\u001b[1;33m/\u001b[0m\u001b[0ml\u001b[0m\u001b[1;33m**\u001b[0m\u001b[1;36m2\u001b[0m\u001b[1;33m)\u001b[0m\u001b[1;33m\u001b[0m\u001b[1;33m\u001b[0m\u001b[0m\n\u001b[0m",
      "\u001b[1;31mZeroDivisionError\u001b[0m: division by zero"
     ]
    },
    {
     "data": {
      "image/png": "[encoded data removed]",
      "text/plain": [
       "<Figure size 432x288 with 1 Axes>"
      ]
     },
     "metadata": {
      "needs_background": "light"
     },
     "output_type": "display_data"
    }
   ],
   "source": [
    "x = np.arange(1, 100, 0.1)\n",
    "plt.plot(x, rice_bowl_function(x))\n",
    "plt.scatter(0, rice_bowl_function(0), s=200)\n",
    "plt.xlabel(\"x\")\n",
    "plt.ylabel(\"$f(x)$\")\n",
    "plt.title(\"global\")\n",
    "plt.show()"
   ]
  },
  {
   "cell_type": "code",
   "execution_count": 93,
   "id": "conceptual-garbage",
   "metadata": {
    "scrolled": true
   },
   "outputs": [
    {
     "data": {
      "image/png": "[encoded data removed]",
      "text/plain": [
       "<Figure size 432x288 with 1 Axes>"
      ]
     },
     "metadata": {
      "needs_background": "light"
     },
     "output_type": "display_data"
    }
   ],
   "source": [
    "def f_global(x):\n",
    "    \"\"\"비선형 목적함수\"\"\"\n",
    "    return (4*x - ( 32 / x**2))\n",
    "\n",
    "x = np.arange(-100, 100, 0.1)\n",
    "plt.plot(x, f_global(x))\n",
    "plt.show()"
   ]
  },
  {
   "cell_type": "code",
   "execution_count": 96,
   "id": "about-nickel",
   "metadata": {},
   "outputs": [
    {
     "name": "stdout",
     "output_type": "stream",
     "text": [
      "0.0\n"
     ]
    }
   ],
   "source": [
    "x = 2\n",
    "y = 4*x - ( 32 / x**2)\n",
    "print(y)"
   ]
  },
  {
   "cell_type": "code",
   "execution_count": 55,
   "id": "moderate-collect",
   "metadata": {},
   "outputs": [],
   "source": [
    "x1 = np.linspace(0, 100, 100)\n",
    "x2 = np.linspace(0, 100, 100)\n",
    "X, Y = np.meshgrid(x1, x2)\n",
    "Z = rice_bowl_function(X, Y)"
   ]
  },
  {
   "cell_type": "code",
   "execution_count": 60,
   "id": "dated-navigator",
   "metadata": {},
   "outputs": [
    {
     "data": {
      "image/png": "[encoded data removed]",
      "text/plain": [
       "<Figure size 432x288 with 1 Axes>"
      ]
     },
     "metadata": {
      "needs_background": "light"
     },
     "output_type": "display_data"
    }
   ],
   "source": [
    "levels=np.logspace(-1, 3, 10)\n",
    "plt.contourf(X, Y, Z, alpha=0.2, levels=levels)\n",
    "plt.contour(X, Y, Z, colors=\"gray\",\n",
    "            levels=[0.4, 3, 15, 50, 150, 500, 1500, 5000])\n",
    "plt.plot(1, 1, 'ro', markersize=10)\n",
    "\n",
    "plt.xlim(-4, 4)\n",
    "plt.ylim(-3, 3)\n",
    "plt.xticks(np.linspace(-4, 4, 9))\n",
    "plt.yticks(np.linspace(-3, 3, 7))\n",
    "\n",
    "plt.show()\n"
   ]
  },
  {
   "cell_type": "code",
   "execution_count": 220,
   "id": "separate-embassy",
   "metadata": {},
   "outputs": [],
   "source": [
    "def numerical_diff(f, x): \n",
    "    h = 1e-5 # 0.00001 \n",
    "    #return ( f(x + h) - f(x - h) ) / (2 * h)   # Symmetric derivative \n",
    "    return (f(x + h) - f(x)) / h                # Derivative "
   ]
  },
  {
   "cell_type": "code",
   "execution_count": 221,
   "id": "enclosed-morrison",
   "metadata": {},
   "outputs": [],
   "source": [
    "def rice_bowl_function(x): \n",
    "    return 2*(x[0]**2) + 4*x[0]*x[1] # objective function(목적함수)\n",
    "    # return None"
   ]
  },
  {
   "cell_type": "code",
   "execution_count": 222,
   "id": "announced-success",
   "metadata": {},
   "outputs": [],
   "source": [
    "# def rice_bowl_function_wrt_x0(x0): \n",
    "#     x1 = 4 \n",
    "#     return 2*x[0]**2 + 4*x[0]*x[1]"
   ]
  },
  {
   "cell_type": "code",
   "execution_count": 223,
   "id": "eleven-model",
   "metadata": {},
   "outputs": [],
   "source": [
    "# 밑바닥부터 시작하는 딥러닝 p.127 \n",
    "def numerical_gradient_of_scalar_function_wrt_vector_x(f, x): \n",
    "    h = 1e-4 # 0.0001 \n",
    "    grad = np.zeros_like(x) # x와 형상이 같은 배열을 생성 \n",
    "    \n",
    "    # The partial differential of function f with respect to x_idx \n",
    "    for idx in range(x.size): \n",
    "        tmp_val = x[idx] \n",
    "\n",
    "        # f(x+h)\n",
    "        x[idx] = tmp_val + h\n",
    "        f_x_plus_h = f(x)\n",
    "        \n",
    "        # f(x) \n",
    "        x[idx] = tmp_val\n",
    "        fx = f(x)\n",
    "        \n",
    "        \n",
    "        grad[idx] = (f_x_plus_h - fx) / h \n",
    "        \n",
    "        #x[idx] = tmp_val \n",
    "    \n",
    "    return grad"
   ]
  },
  {
   "cell_type": "code",
   "execution_count": 224,
   "id": "liberal-thread",
   "metadata": {},
   "outputs": [
    {
     "data": {
      "text/plain": [
       "array([8.0002, 4.    ])"
      ]
     },
     "execution_count": 224,
     "metadata": {},
     "output_type": "execute_result"
    }
   ],
   "source": [
    "# 밑바닥부터 시작하는 딥러닝 p.128\n",
    "numerical_gradient_of_scalar_function_wrt_vector_x(rice_bowl_function, np.array([1.0, 1.0]))"
   ]
  },
  {
   "cell_type": "code",
   "execution_count": 225,
   "id": "natural-offset",
   "metadata": {},
   "outputs": [
    {
     "data": {
      "text/plain": [
       "array([16.0002,  8.    ])"
      ]
     },
     "execution_count": 225,
     "metadata": {},
     "output_type": "execute_result"
    }
   ],
   "source": [
    "numerical_gradient_of_scalar_function_wrt_vector_x(rice_bowl_function, np.array([2.0, 2.0]))"
   ]
  },
  {
   "cell_type": "code",
   "execution_count": 226,
   "id": "coupled-millennium",
   "metadata": {},
   "outputs": [
    {
     "data": {
      "text/plain": [
       "array([12.0002, 12.    ])"
      ]
     },
     "execution_count": 226,
     "metadata": {},
     "output_type": "execute_result"
    }
   ],
   "source": [
    "numerical_gradient_of_scalar_function_wrt_vector_x(rice_bowl_function, np.array([3.0, 0.0]))"
   ]
  },
  {
   "cell_type": "code",
   "execution_count": 239,
   "id": "written-dance",
   "metadata": {},
   "outputs": [],
   "source": [
    "def numerical_gradient(f, X): \n",
    "    def numerical_gradient_of_scalar_function_wrt_vector_x(f, x): \n",
    "        h = 1e-4 # 0.0001 \n",
    "        grad = np.zeros_like(x) # x와 형상이 같은 배열을 생성 \n",
    "        \n",
    "        # The partial differential of function f with respect to x_idx \n",
    "        for idx in range(x.size): \n",
    "            tmp_val = x[idx] \n",
    "\n",
    "            # f(x+h)\n",
    "            x[idx] = tmp_val + h \n",
    "            f_x_plus_h = f(x)\n",
    "            \n",
    "            # f(x) \n",
    "            x[idx] = tmp_val \n",
    "            fx = f(x) \n",
    "            \n",
    "            grad[idx] = (f_x_plus_h - fx) / h \n",
    "            \n",
    "            #x[idx] = tmp_val \n",
    "        \n",
    "        return grad\n",
    "    \n",
    "    if X.ndim == 1:\n",
    "        return numerical_gradient_of_scalar_function_wrt_vector_x(f, X)\n",
    "    else:\n",
    "        grad = np.zeros_like(X)\n",
    "        \n",
    "        for idx, x in enumerate(X):\n",
    "            grad[idx] = numerical_gradient_of_scalar_function_wrt_vector_x(f, x)\n",
    "        \n",
    "        return grad "
   ]
  },
  {
   "cell_type": "code",
   "execution_count": 240,
   "id": "technological-video",
   "metadata": {},
   "outputs": [],
   "source": [
    "# [3강] 벡터.행렬.편미분.전미분.최적화.pdf p.21 ~ 31  \n",
    "# [Day2]_Gradient Descent and Searching Space Topology.pdf p.35 \n",
    "# 밑바닥부터 시작하는 딥러닝 p.131\n",
    "def gradient_descent(f, x_0, eta=0.001, max_iter=10000): \n",
    "    x_k = x_0 \n",
    "    \n",
    "    for k in range(max_iter): \n",
    "        g_k = numerical_gradient(f, x_k)\n",
    "        partial_x_k = -g_k\n",
    "        x_k_plus_1 = x_k + eta * partial_x_k\n",
    "        \n",
    "\n",
    "        x_k = x_k_plus_1\n",
    "        \n",
    "        \n",
    "    return x_k # 최적화 값."
   ]
  },
  {
   "cell_type": "code",
   "execution_count": 241,
   "id": "weighted-toner",
   "metadata": {},
   "outputs": [],
   "source": [
    "def rice_bowl_function(x): \n",
    "    return 2*(x[0]**2) + 4*x[0]*x[1] #  Objective function"
   ]
  },
  {
   "cell_type": "code",
   "execution_count": 242,
   "id": "arranged-underwear",
   "metadata": {},
   "outputs": [],
   "source": [
    "x_0 = np.array([1.0, 1.0]) # 초기값, 시작점"
   ]
  },
  {
   "cell_type": "code",
   "execution_count": 243,
   "id": "ordinary-marsh",
   "metadata": {},
   "outputs": [
    {
     "data": {
      "text/plain": [
       "array([-9.02167713e+09,  1.45790364e+10])"
      ]
     },
     "execution_count": 243,
     "metadata": {},
     "output_type": "execute_result"
    }
   ],
   "source": [
    "gradient_descent(rice_bowl_function, x_0=x_0, eta=0.001, max_iter=10000) # eta는 아주 작은 값은 상수로 고정한다."
   ]
  },
  {
   "cell_type": "code",
   "execution_count": 279,
   "id": "alpha-confusion",
   "metadata": {
    "scrolled": true
   },
   "outputs": [
    {
     "data": {
      "image/png": "[encoded data removed]",
      "text/plain": [
       "<Figure size 432x288 with 1 Axes>"
      ]
     },
     "metadata": {
      "needs_background": "light"
     },
     "output_type": "display_data"
    }
   ],
   "source": [
    "eta = 0.1\n",
    "max_iter = 100000\n",
    "\n",
    "def _gradient_descent(f, x_0, eta=0.0001, max_iter=10000):\n",
    "    x = x_0\n",
    "    x_history = []\n",
    "\n",
    "    for k in range(max_iter):\n",
    "        x_history.append( x.copy() )\n",
    "\n",
    "        g = numerical_gradient(f, x) \n",
    "        x = x - eta * g \n",
    "\n",
    "    return x, np.array(x_history)\n",
    "\n",
    "def rice_bowl_function(x): \n",
    "    return 2*(x[0]**2) + 4*x[0]*x[1] #  Objective function\n",
    "\n",
    "x_0 = np.array([-3.0, 4.0])    \n",
    "\n",
    "x, x_history = _gradient_descent(rice_bowl_function, x_0, eta=eta, max_iter=max_iter)\n",
    "\n",
    "plt.plot( [-5, 5], [0,0], '--r')\n",
    "plt.plot( [0,0], [-5, 5], '--r')\n",
    "plt.plot(x_history[:,0], x_history[:,1], 'bo')\n",
    "\n",
    "# https://www.geeksforgeeks.org/contour-plot-using-matplotlib-python/\n",
    "feature_x = np.linspace(-100, 100, 70) \n",
    "feature_y = np.linspace(-100, 100, 70) \n",
    "  \n",
    "# Creating 2-D grid of features \n",
    "[X, Y] = np.meshgrid(feature_x, feature_y) \n",
    "  \n",
    "Z = X ** 2 + Y ** 2\n",
    "  \n",
    "# plots filled contour plot \n",
    "plt.contourf(X, Y, Z) \n",
    "\n",
    "plt.xlim(-100, 100)\n",
    "plt.ylim(-100, 100)\n",
    "# plt.xlim(-3.5, 3.5)\n",
    "# plt.ylim(-4.5, 4.5)\n",
    "plt.xlabel(\"l*\")\n",
    "plt.ylabel(\"h*\")\n",
    "plt.show()"
   ]
  },
  {
   "cell_type": "code",
   "execution_count": null,
   "id": "stunning-vision",
   "metadata": {},
   "outputs": [],
   "source": []
  },
  {
   "cell_type": "code",
   "execution_count": null,
   "id": "noted-skill",
   "metadata": {},
   "outputs": [],
   "source": []
  }
 ],
 "metadata": {
  "kernelspec": {
   "display_name": "Python 3 (ipykernel)",
   "language": "python",
   "name": "python3"
  },
  "language_info": {
   "codemirror_mode": {
    "name": "ipython",
    "version": 3
   },
   "file_extension": ".py",
   "mimetype": "text/x-python",
   "name": "python",
   "nbconvert_exporter": "python",
   "pygments_lexer": "ipython3",
   "version": "3.9.6"
  }
 },
 "nbformat": 4,
 "nbformat_minor": 5
}
